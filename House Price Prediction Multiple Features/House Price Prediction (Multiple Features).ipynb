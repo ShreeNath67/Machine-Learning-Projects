{
 "cells": [
  {
   "cell_type": "markdown",
   "id": "16e855ee-22ad-413e-8063-a4dcc3357828",
   "metadata": {},
   "source": [
    "# House Price Prediction using Linear Regression (Multiple Features)"
   ]
  },
  {
   "cell_type": "markdown",
   "id": "54b139ec-10ea-4940-8450-a3029555062c",
   "metadata": {},
   "source": [
    "## Step 1: Import Libraries"
   ]
  },
  {
   "cell_type": "code",
   "execution_count": 2,
   "id": "59f15f09-9aac-42d2-9bbe-96e5b96b8560",
   "metadata": {},
   "outputs": [],
   "source": [
    "import numpy as np\n",
    "import matplotlib.pyplot as plt"
   ]
  },
  {
   "cell_type": "markdown",
   "id": "d5ffc9da-296c-4e84-8ebd-89a03684ed28",
   "metadata": {},
   "source": [
    "## Step 2: Create Dataset with Multiple Features"
   ]
  },
  {
   "cell_type": "code",
   "execution_count": 3,
   "id": "28784704-23ff-4844-a64a-875662409693",
   "metadata": {},
   "outputs": [],
   "source": [
    "# Features: [size in sqft, number of bedrooms, age in years]\n",
    "X = np.array([\n",
    "    [2100, 3, 20],\n",
    "    [1600, 2, 15],\n",
    "    [2400, 4, 5],\n",
    "    [1400, 2, 20],\n",
    "    [3000, 4, 8],\n",
    "    [1800, 3, 10],\n",
    "    [2200, 3, 12],\n",
    "    [2500, 4, 7],\n",
    "    [1700, 2, 14],\n",
    "    [1900, 3, 10]\n",
    "])\n",
    "\n",
    "# Prices (in ₹ Lakhs)\n",
    "y = np.array([400, 330, 550, 310, 610, 365, 445, 525, 340, 370])\n",
    "m = len(y)  # Number of samples"
   ]
  },
  {
   "cell_type": "markdown",
   "id": "d6374af6-6ebb-4398-83d1-d5c172c8b849",
   "metadata": {},
   "source": [
    "## Step 3: Normalize Features (important for gradient descent)"
   ]
  },
  {
   "cell_type": "markdown",
   "id": "7e4b6fe0-9904-4711-96cd-442ce597d8b2",
   "metadata": {},
   "source": [
    "<img src=\"Normalization.png\" width=\"700\">"
   ]
  },
  {
   "cell_type": "code",
   "execution_count": 4,
   "id": "0b273aed-3bc3-41cc-bbab-18dc7c5dc792",
   "metadata": {},
   "outputs": [],
   "source": [
    "X_mean = np.mean(X, axis=0)\n",
    "X_std = np.std(X, axis=0)\n",
    "X_norm = (X - X_mean) / X_std"
   ]
  },
  {
   "cell_type": "markdown",
   "id": "5c157de9-88f4-4fe5-84f0-b7c8aa744e16",
   "metadata": {},
   "source": [
    "## Step 4: Add Bias Term (column of 1s)"
   ]
  },
  {
   "cell_type": "markdown",
   "id": "1a834c5a-3445-4f41-bae1-1d83c0882404",
   "metadata": {},
   "source": [
    "<img src=\"Bias.png\" width=\"700\">"
   ]
  },
  {
   "cell_type": "code",
   "execution_count": 5,
   "id": "f99d8f05-5824-4f9a-b041-a21efa7c1b9c",
   "metadata": {},
   "outputs": [],
   "source": [
    "X_b = np.c_[np.ones((m, 1)), X_norm]  # shape: (m, n+1)"
   ]
  },
  {
   "cell_type": "markdown",
   "id": "bcb90820-93c0-4a15-8eba-1784b7b492e9",
   "metadata": {},
   "source": [
    "## Step 5: Define Cost Function (MSE)"
   ]
  },
  {
   "cell_type": "markdown",
   "id": "27771f22-7bb6-4bdc-af4a-23e07a792068",
   "metadata": {},
   "source": [
    "<img src=\"Cost Function.png\" width=\"700\">"
   ]
  },
  {
   "cell_type": "code",
   "execution_count": 1,
   "id": "0604fcf5-223d-406c-9dd6-517715ad6faf",
   "metadata": {},
   "outputs": [],
   "source": [
    "def compute_cost(X, y, theta):\n",
    "    m = len(y)\n",
    "    \n",
    "    predictions = X @ theta\n",
    "    e\n",
    "    rror = predictions - y\n",
    "    \n",
    "    cost = (1 / (2 * m)) * np.sum(error ** 2)\n",
    "   \n",
    "    return cost"
   ]
  },
  {
   "cell_type": "markdown",
   "id": "bdbe2706-3f80-4725-918d-8a043f9470ce",
   "metadata": {},
   "source": [
    "## Step 6: Gradient Descent"
   ]
  },
  {
   "cell_type": "markdown",
   "id": "48c358b4-be46-4b33-9ece-5623ebe163d3",
   "metadata": {},
   "source": [
    "<img src=\"Gradient Descent.png\" width=\"700\">"
   ]
  },
  {
   "cell_type": "code",
   "execution_count": 7,
   "id": "a4fcf5b9-1ec7-4bf5-b0a6-6acc25ea28f8",
   "metadata": {},
   "outputs": [],
   "source": [
    "def gradient_descent(X, y, theta, learning_rate=0.01, iterations=1000):\n",
    "    m = len(y)\n",
    "    cost_history = []\n",
    "\n",
    "    for _ in range(iterations):\n",
    "        \n",
    "        predictions = X @ theta\n",
    "        \n",
    "        errors = predictions - y\n",
    "       \n",
    "        gradients = (1 / m) * (X.T @ errors)\n",
    "        \n",
    "        theta = theta - learning_rate * gradients\n",
    "       \n",
    "        cost = compute_cost(X, y, theta)\n",
    "        cost_history.append(cost)\n",
    "\n",
    "    return theta, cost_history"
   ]
  },
  {
   "cell_type": "markdown",
   "id": "7b9c5d0f-3885-4451-9beb-08c37046a232",
   "metadata": {},
   "source": [
    "## Step 7: Train the Model"
   ]
  },
  {
   "cell_type": "code",
   "execution_count": 8,
   "id": "de650ca3-aa1d-4d51-b7b4-761e696704d8",
   "metadata": {},
   "outputs": [
    {
     "name": "stdout",
     "output_type": "stream",
     "text": [
      "Final parameters (theta): [424.5         75.79891657  14.74307472 -10.02455578]\n"
     ]
    }
   ],
   "source": [
    "theta_init = np.zeros(X_b.shape[1])\n",
    "theta_final, cost_history = gradient_descent(X_b, y, theta_init, learning_rate=0.1, iterations=1000)\n",
    "print(\"Final parameters (theta):\", theta_final)"
   ]
  },
  {
   "cell_type": "markdown",
   "id": "fd7917fe-b809-4c82-b74f-e9ed5fdfc3fd",
   "metadata": {},
   "source": [
    "## Step 8: Plot Cost Reduction"
   ]
  },
  {
   "cell_type": "code",
   "execution_count": 9,
   "id": "462d164e-f13a-4843-a08b-c8c295b679f8",
   "metadata": {},
   "outputs": [
    {
     "data": {
      "image/png": "[encoded data removed]",
      "text/plain": [
       "<Figure size 640x480 with 1 Axes>"
      ]
     },
     "metadata": {},
     "output_type": "display_data"
    }
   ],
   "source": [
    "plt.plot(range(len(cost_history)), cost_history)\n",
    "plt.xlabel(\"Iterations\")\n",
    "plt.ylabel(\"Cost (MSE)\")\n",
    "plt.title(\"Cost Reduction Over Iterations\")\n",
    "plt.grid(True)\n",
    "plt.show()"
   ]
  },
  {
   "cell_type": "markdown",
   "id": "272dc863-c850-490c-9e75-df8722dd846d",
   "metadata": {},
   "source": [
    "## Step 9: Make Predictions"
   ]
  },
  {
   "cell_type": "code",
   "execution_count": 10,
   "id": "8430cfe4-a106-426c-b681-9601e15f8fee",
   "metadata": {},
   "outputs": [
    {
     "name": "stdout",
     "output_type": "stream",
     "text": [
      "Predicted house price: ₹414.74 Lakhs\n"
     ]
    }
   ],
   "source": [
    "# New house: [2000 sqft, 3 bedrooms, 12 years]\n",
    "new_house = np.array([2000, 3, 12])\n",
    "new_house_norm = (new_house - X_mean) / X_std\n",
    "new_house_with_bias = np.r_[1, new_house_norm]\n",
    "predicted_price = new_house_with_bias @ theta_final\n",
    "\n",
    "print(f\"Predicted house price: ₹{predicted_price:.2f} Lakhs\")"
   ]
  }
 ],
 "metadata": {
  "kernelspec": {
   "display_name": "Python 3 (ipykernel)",
   "language": "python",
   "name": "python3"
  },
  "language_info": {
   "codemirror_mode": {
    "name": "ipython",
    "version": 3
   },
   "file_extension": ".py",
   "mimetype": "text/x-python",
   "name": "python",
   "nbconvert_exporter": "python",
   "pygments_lexer": "ipython3",
   "version": "3.11.0"
  }
 },
 "nbformat": 4,
 "nbformat_minor": 5
}
