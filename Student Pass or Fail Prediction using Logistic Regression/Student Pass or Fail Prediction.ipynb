{
 "cells": [
  {
   "cell_type": "markdown",
   "id": "d2c1ea3b-d4b4-4de1-b589-bc9d492132b2",
   "metadata": {},
   "source": [
    "# Predicting Whether a Student Passes or Fails Based on Study Hours and Attendance"
   ]
  },
  {
   "cell_type": "markdown",
   "id": "edc24f77-42ee-4334-9a63-911a446903a9",
   "metadata": {},
   "source": [
    "## Importing Libraries"
   ]
  },
  {
   "cell_type": "code",
   "execution_count": 16,
   "id": "7cedb7f3-7740-4dbe-bd4f-6f76814a80f6",
   "metadata": {},
   "outputs": [],
   "source": [
    "import pandas as pd\n",
    "import numpy as np\n",
    "from sklearn.linear_model import LogisticRegression\n",
    "from sklearn.model_selection import train_test_split\n",
    "from sklearn.metrics import accuracy_score, confusion_matrix, classification_report"
   ]
  },
  {
   "cell_type": "markdown",
   "id": "15bfc201-ccc0-44ff-aa10-d1a7111a1e5a",
   "metadata": {},
   "source": [
    "## Data Fetching"
   ]
  },
  {
   "cell_type": "code",
   "execution_count": 17,
   "id": "4ecbc988-d695-439d-b52b-8fa37e84bb64",
   "metadata": {},
   "outputs": [
    {
     "data": {
      "text/html": [
       "<div>\n",
       "<style scoped>\n",
       "    .dataframe tbody tr th:only-of-type {\n",
       "        vertical-align: middle;\n",
       "    }\n",
       "\n",
       "    .dataframe tbody tr th {\n",
       "        vertical-align: top;\n",
       "    }\n",
       "\n",
       "    .dataframe thead th {\n",
       "        text-align: right;\n",
       "    }\n",
       "</style>\n",
       "<table border=\"1\" class=\"dataframe\">\n",
       "  <thead>\n",
       "    <tr style=\"text-align: right;\">\n",
       "      <th></th>\n",
       "      <th>StudyHours</th>\n",
       "      <th>Attendance</th>\n",
       "      <th>Result</th>\n",
       "    </tr>\n",
       "  </thead>\n",
       "  <tbody>\n",
       "    <tr>\n",
       "      <th>0</th>\n",
       "      <td>2</td>\n",
       "      <td>30</td>\n",
       "      <td>0</td>\n",
       "    </tr>\n",
       "    <tr>\n",
       "      <th>1</th>\n",
       "      <td>3</td>\n",
       "      <td>45</td>\n",
       "      <td>0</td>\n",
       "    </tr>\n",
       "    <tr>\n",
       "      <th>2</th>\n",
       "      <td>4</td>\n",
       "      <td>55</td>\n",
       "      <td>0</td>\n",
       "    </tr>\n",
       "    <tr>\n",
       "      <th>3</th>\n",
       "      <td>5</td>\n",
       "      <td>60</td>\n",
       "      <td>0</td>\n",
       "    </tr>\n",
       "    <tr>\n",
       "      <th>4</th>\n",
       "      <td>6</td>\n",
       "      <td>65</td>\n",
       "      <td>1</td>\n",
       "    </tr>\n",
       "  </tbody>\n",
       "</table>\n",
       "</div>"
      ],
      "text/plain": [
       "   StudyHours  Attendance  Result\n",
       "0           2          30       0\n",
       "1           3          45       0\n",
       "2           4          55       0\n",
       "3           5          60       0\n",
       "4           6          65       1"
      ]
     },
     "execution_count": 17,
     "metadata": {},
     "output_type": "execute_result"
    }
   ],
   "source": [
    "df = pd.read_csv(\"Data.csv\")\n",
    "df.head()"
   ]
  },
  {
   "cell_type": "markdown",
   "id": "d00602bb-b037-433a-a36d-8a01900cde49",
   "metadata": {},
   "source": [
    "## Spliting into Features and Target"
   ]
  },
  {
   "cell_type": "code",
   "execution_count": 18,
   "id": "7b0d0d9e-da8d-4104-badf-333dafaac435",
   "metadata": {},
   "outputs": [],
   "source": [
    "X = df[['StudyHours', 'Attendance']]           #Features\n",
    "y = df['Result']                               #Target Variable"
   ]
  },
  {
   "cell_type": "markdown",
   "id": "c4f4791b-d99e-4a80-a921-64ce17063801",
   "metadata": {},
   "source": [
    "## Training and Spliting"
   ]
  },
  {
   "cell_type": "code",
   "execution_count": 19,
   "id": "ff3dd641-e6b5-4a7d-8756-6866fa6bd230",
   "metadata": {},
   "outputs": [],
   "source": [
    "X_train, X_test, y_train, y_test = train_test_split(X, y, test_size=0.2, random_state=42)"
   ]
  },
  {
   "cell_type": "markdown",
   "id": "6404955c-ee79-4f2f-a47c-7f311b1c282e",
   "metadata": {},
   "source": [
    "## Training Logistic Model"
   ]
  },
  {
   "cell_type": "markdown",
   "id": "ed00148f-fc30-4650-89dc-064e48dd7e4c",
   "metadata": {},
   "source": [
    "model = LogisticRegression()\n",
    "model.fit(X_train, y_train)"
   ]
  },
  {
   "cell_type": "markdown",
   "id": "d49d83e5-e9ba-4794-90c5-8d8486f0a347",
   "metadata": {},
   "source": [
    "## Predict and Evaluate"
   ]
  },
  {
   "cell_type": "code",
   "execution_count": 21,
   "id": "adedbb81-1f95-46b8-8c9e-8b5b73e68d70",
   "metadata": {},
   "outputs": [],
   "source": [
    "y_pred = model.predict(X_test)"
   ]
  },
  {
   "cell_type": "markdown",
   "id": "bfac7867-c42e-4017-aa7d-a1b5ebeb0e1d",
   "metadata": {},
   "source": [
    "## Output"
   ]
  },
  {
   "cell_type": "code",
   "execution_count": 27,
   "id": "5ff06c20-5fcf-4d44-b097-b3d9a0bfc78d",
   "metadata": {},
   "outputs": [
    {
     "name": "stdout",
     "output_type": "stream",
     "text": [
      "Accuracy: 1.0\n"
     ]
    }
   ],
   "source": [
    "print(\"Accuracy:\", accuracy_score(y_test, y_pred))"
   ]
  },
  {
   "cell_type": "code",
   "execution_count": 28,
   "id": "f7d69d29-d0f3-4aa7-a46d-7852c3dfca11",
   "metadata": {},
   "outputs": [
    {
     "name": "stdout",
     "output_type": "stream",
     "text": [
      "Confusion Matrix:\n",
      " [[2 0]\n",
      " [0 2]]\n"
     ]
    }
   ],
   "source": [
    "print(\"Confusion Matrix:\\n\", confusion_matrix(y_test, y_pred))"
   ]
  },
  {
   "cell_type": "code",
   "execution_count": 26,
   "id": "def5aeaf-daa5-41fe-b9e3-91a5c486dbe3",
   "metadata": {},
   "outputs": [
    {
     "name": "stdout",
     "output_type": "stream",
     "text": [
      "Accuracy: 1.0\n",
      "Confusion Matrix:\n",
      " [[2 0]\n",
      " [0 2]]\n",
      "Classification Report:\n",
      "               precision    recall  f1-score   support\n",
      "\n",
      "           0       1.00      1.00      1.00         2\n",
      "           1       1.00      1.00      1.00         2\n",
      "\n",
      "    accuracy                           1.00         4\n",
      "   macro avg       1.00      1.00      1.00         4\n",
      "weighted avg       1.00      1.00      1.00         4\n",
      "\n"
     ]
    }
   ],
   "source": [
    "print(\"Accuracy:\", accuracy_score(y_test, y_pred))\n",
    "print(\"Confusion Matrix:\\n\", confusion_matrix(y_test, y_pred))\n",
    "print(\"Classification Report:\\n\", classification_report(y_test, y_pred))"
   ]
  },
  {
   "cell_type": "markdown",
   "id": "4ba90589-f970-4842-be36-0dad7f3665d6",
   "metadata": {},
   "source": [
    "## Predicting for New Student"
   ]
  },
  {
   "cell_type": "code",
   "execution_count": 25,
   "id": "c3d949c1-9e2e-4bdc-8d17-7c0732cd4fda",
   "metadata": {},
   "outputs": [
    {
     "name": "stdout",
     "output_type": "stream",
     "text": [
      "New Student Prediction:  Pass\n"
     ]
    }
   ],
   "source": [
    "new_student = pd.DataFrame([[5, 65]], columns=[\"StudyHours\", \"Attendance\"])\n",
    "prediction = model.predict(new_student)\n",
    "\n",
    "print(\"New Student Prediction: \", \"Pass\" if prediction[0] == 1 else \"Fail\")"
   ]
  }
 ],
 "metadata": {
  "kernelspec": {
   "display_name": "Python 3 (ipykernel)",
   "language": "python",
   "name": "python3"
  },
  "language_info": {
   "codemirror_mode": {
    "name": "ipython",
    "version": 3
   },
   "file_extension": ".py",
   "mimetype": "text/x-python",
   "name": "python",
   "nbconvert_exporter": "python",
   "pygments_lexer": "ipython3",
   "version": "3.11.0"
  }
 },
 "nbformat": 4,
 "nbformat_minor": 5
}
